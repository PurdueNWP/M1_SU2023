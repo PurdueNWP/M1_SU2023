{
  "cells": [
    {
      "cell_type": "raw",
      "metadata": {},
      "source": [
        "---\n",
        "author: Prof. Tung and \"Your Name\"\n",
        "editor:\n",
        "  markdown:\n",
        "    wrap: 72\n",
        "format:\n",
        "  html:\n",
        "    toc: true\n",
        "    number-sections: true\n",
        "    code-fold: true\n",
        "---"
      ],
      "id": "af672170"
    },
    {
      "cell_type": "markdown",
      "metadata": {},
      "source": [
        "## Assignment 1: Getting your Cloud Computing tools together\n",
        "\n",
        "### Introduction:\n",
        "\n",
        "This file was created as a [Quarto](https://quarto.org/) document. The\n",
        "first block seen above is the YAML, a human-readable data-serialization\n",
        "language. It is commonly used to add *metadata*, such as title and\n",
        "descriptions, to Markdown documents. For Quarto specifically, it can\n",
        "include the \"engine\" to render the document, such as *Jupyter: python*\n",
        "in this example.\n",
        "\n",
        "#### References:\n",
        "\n",
        "https://unidata.github.io/python-training/workshop/MetPy_Case_Study/metpy-case-study/\n",
        "\n",
        "#### In this exercise:\n",
        "\n",
        "-   create a Github account\n",
        "\n",
        "-   clone the class Github directory to your Anvil home directory (make\n",
        "    sure you have signed up for an Anvil account)\n",
        "\n",
        "-   Setup your Anvil work environment\n",
        "\n",
        "-   Retrieve data from National Center for Environmental Information\n",
        "    (NCEI, formerly NCDC) then plot with Python.\n",
        "\n",
        "This is a tutorial on building a case study map for Dynamic Meteorology\n",
        "courses with use of Unidata tools, specifically\n",
        "[MetPy](https://unidata.github.io/MetPy/latest/) and\n",
        "[Siphon](https://unidata.github.io/siphon/latest/). In this tutorial we\n",
        "will cover accessing, calculating, and plotting model output.\n",
        "\n",
        "-   Read from netCDF format file\n",
        "\n",
        "-   Plot surface temperature using Jupyter notebook\n",
        "\n",
        "Let's investigate The 1996 and 2016 Blizzards, although it would be easy\n",
        "to change which case you wanted (please feel free to do so).\n",
        "\n",
        "Reanalysis Output: NARR 00 UTC 23 Jan 1996 and NARR 00 UTC 23 Jan 2016\n",
        "\n",
        "- Output your report into a professional document using Quarto\n",
        "\n",
        "### Data from Reanalysis on pressure surfaces:\n",
        "\n",
        "-   2m Temperature\n",
        "\n",
        "### \n"
      ],
      "id": "a4cf26ee"
    },
    {
      "cell_type": "code",
      "metadata": {},
      "source": [
        "from datetime import datetime\n",
        "\n",
        "import cartopy.crs as ccrs\n",
        "import cartopy.feature as cfeature\n",
        "import matplotlib.pyplot as plt\n",
        "import metpy.calc as mpcalc\n",
        "import numpy as np\n",
        "\n",
        "from metpy.plots import StationPlot\n",
        "from metpy.units import units\n",
        "from netCDF4 import Dataset, num2date\n",
        "from scipy.ndimage import gaussian_filter\n",
        "from siphon.catalog import TDSCatalog"
      ],
      "id": "989755a0",
      "execution_count": null,
      "outputs": []
    },
    {
      "cell_type": "markdown",
      "metadata": {},
      "source": [
        "## Case Study Data\n",
        "\n",
        "There are a number of different sites that you can utilize to access\n",
        "past model output analyses and even forecasts. The most robust\n",
        "collection is housed at the National Center for Environmental\n",
        "Information (NCEI, formerly NCDC) on a THREDDS server. The general\n",
        "website to begin your search is\n",
        "\n",
        "https://www.ncdc.noaa.gov/data-access\n",
        "\n",
        "this link contains links to many different data sources (some of which\n",
        "we will come back to later in this tutorial). But for now, lets\n",
        "investigate what model output is available\n",
        "\n",
        "https://www.ncei.noaa.gov/products/weather-climate-models\n",
        "\n",
        "## Retrieve NARR data from National Centers for Environmental Information\n",
        "\n",
        "*North American Regional Reanalysis (NARR)* NARR is a regional\n",
        "reanalysis of North America containing temperatures, winds, moisture,\n",
        "soil data, and dozens of other parameters at 32km horizontal resolution.\n",
        "\n",
        "Lets investigate what specific NARR output is available to work with\n",
        "from National Centers for Environmental Information (NCEI).\n",
        "\n",
        "https://www.ncei.noaa.gov/products/weather-climate-models/north-american-regional\n",
        "\n",
        "We specifically want to look for data that has \"TDS\" data access, since\n",
        "that is short for a *THREDDS* server data access point. Let's go ahead\n",
        "and use the NARR Analysis data to investigate the past case (The 1996\n",
        "Blizzard) we identified:\n",
        "\n",
        "<https://www.ncei.noaa.gov/thredds/catalog/model-narr-a-files/199601/19960123/catalog.html?dataset=model-narr-a-files/199601/19960123/narr-a_221_19960123_0000_000.grb>\n",
        "\n",
        "And we will use a Unidata python package called\n",
        "[Siphon](https://unidata.github.io/siphon/latest/) to read this data\n",
        "through the THREDDS data server NetCDF Subset Service link:\n",
        "\n",
        "<https://www.ncei.noaa.gov/thredds/ncss/model-narr-a-files/199601/19960123/narr-a_221_19960123_0000_000.grb/dataset.html>\n"
      ],
      "id": "335efc12"
    },
    {
      "cell_type": "code",
      "metadata": {},
      "source": [
        "# Case Study Date\n",
        "year = 1996\n",
        "month = 1\n",
        "day = 23\n",
        "hour = 0\n",
        "\n",
        "dt = datetime(year, month, day, hour)"
      ],
      "id": "4110462e",
      "execution_count": null,
      "outputs": []
    },
    {
      "cell_type": "markdown",
      "metadata": {},
      "source": [
        "The following code chunk automate the spatial, temporal, and variable\n",
        "subsetting operation on the THREDDS data server for the [00 UTC, Jan 23,\n",
        "2016 NARR\n",
        "data](https://www.ncei.noaa.gov/thredds/ncss/model-narr-a-files/199601/19960123/narr-a_221_19960123_0000_000.grb/dataset.html).\n",
        "The data is output into the Network Common Data Form\n",
        "([NetCDF](https://www.unidata.ucar.edu/software/netcdf/)) format, a\n",
        "standard for sharing scientific data in the weather and climate\n",
        "community.\n"
      ],
      "id": "c63de49b"
    },
    {
      "cell_type": "code",
      "metadata": {},
      "source": [
        "# Read NARR Data from THREDDS server\n",
        "base_url = 'https://www.ncei.noaa.gov/thredds/catalog/model-narr-a-files/'\n",
        "\n",
        "# Programmatically generate the URL to the day of data we want\n",
        "cat = TDSCatalog(f'{base_url}{dt:%Y%m}/{dt:%Y%m%d}/catalog.xml')\n",
        "\n",
        "# Have Siphon find the appropriate dataset\n",
        "ds = cat.datasets.filter_time_nearest(dt)\n",
        "\n",
        "# Interface with the data through the NetCDF Subset Service (NCSS)\n",
        "ncss = ds.subset()\n",
        "\n",
        "# Create an NCSS query with our desired specifications\n",
        "query = ncss.query()\n",
        "query.lonlat_box(north=60, south=18, east=300, west=225)\n",
        "query.all_times()\n",
        "query.add_lonlat()\n",
        "query.accept('netcdf')\n",
        "query.variables('Temperature_surface')\n",
        "\n",
        "# Use the query to obtain our NetCDF data\n",
        "data = ncss.get_data(query)"
      ],
      "id": "35f2f774",
      "execution_count": null,
      "outputs": []
    },
    {
      "cell_type": "markdown",
      "metadata": {},
      "source": [
        "If the internet connection is too slow or if the NCEI THREDDS data\n",
        "server is down, we keep a copy of the subset NetCDF file locally on\n",
        "Anvil for you to use.\n"
      ],
      "id": "b14e516f"
    },
    {
      "cell_type": "code",
      "metadata": {},
      "source": [
        "# In case of bad internet connection.\n",
        "# Uncomment the following line to read local netCDF file \n",
        "#  of the NARR data by removing the # sign leading the line.\n",
        "# data = Dataset('../../../DATA/Week1/NARR_19960123_0000.nc','r')"
      ],
      "id": "e4f04160",
      "execution_count": null,
      "outputs": []
    },
    {
      "cell_type": "markdown",
      "metadata": {},
      "source": [
        "Let's see what dimensions are in the file:\n"
      ],
      "id": "7a613b77"
    },
    {
      "cell_type": "code",
      "metadata": {},
      "source": [
        "data.dimensions"
      ],
      "id": "372a2f97",
      "execution_count": null,
      "outputs": []
    },
    {
      "cell_type": "markdown",
      "metadata": {},
      "source": [
        "## Pulling Data for Plotting\n",
        "\n",
        "The object that we get from Siphon is NetCDF-like, so we can pull data\n",
        "using familiar calls for all of the variables that are desired for\n",
        "calculations and plotting purposes.\n",
        "\n",
        "**NOTE:** Due to the curvilinear nature of the NARR grid, there is a\n",
        "need to smooth the data that we import for calculation and plotting\n",
        "purposes.\n",
        "\n",
        "Additionally, we want to attach units to our values for use in MetPy\n",
        "calculations later and it will also allow for easy conversion to other\n",
        "units.\n",
        "\n",
        "::: {.alert .alert-success}\n",
        "    <b>EXERCISE</b>:\n",
        "    Replace the 0's in the template below with your code:\n",
        "     <ul>\n",
        "      <li>Use the gaussian_filter function to smooth the Temperature_isobaric, Geopotential_height_isobaric, u-component_of_wind_isobaric, and v-component_of_wind_isobaric variables from the netCDF object with a sigma value of 1.</li>\n",
        "    <li>Assign the units of kelvin, meter, m/s, and m/s resectively.</li>\n",
        "    <li>Extract the lat, lon, and isobaric1 variables.</li>\n",
        "    </ul>\n",
        ":::\n"
      ],
      "id": "896a88d5"
    },
    {
      "cell_type": "code",
      "metadata": {},
      "source": [
        "# Extract data and assign units\n",
        "# tmpk = data.variables['Temperature_surface'][0]* units.K\n",
        "tmpk = gaussian_filter(data.variables['Temperature_surface'][0],\n",
        "                       sigma=1.0) * units.K\n",
        "# Extract coordinate data for plotting\n",
        "lat = data.variables['lat'][:]\n",
        "lon = data.variables['lon'][:]\n",
        "lev = 0"
      ],
      "id": "9aec1335",
      "execution_count": null,
      "outputs": []
    },
    {
      "cell_type": "markdown",
      "metadata": {},
      "source": [
        "Next we need to extract the time variable. It's not in very useful\n",
        "units, but the `num2date` function can be used to easily create regular\n",
        "datetime objects.\n"
      ],
      "id": "bd260afa"
    },
    {
      "cell_type": "code",
      "metadata": {},
      "source": [
        "time = data.variables['time2']\n",
        "print(time.units)\n",
        "vtime = num2date(time[0], units=time.units)\n",
        "print(vtime)"
      ],
      "id": "6d286f4a",
      "execution_count": null,
      "outputs": []
    },
    {
      "cell_type": "markdown",
      "metadata": {},
      "source": [
        "Finally, we need to calculate the spacing of the grid in distance units\n",
        "instead of degrees using the MetPy helper function\n",
        "`lat_lon_grid_spacing`.\n"
      ],
      "id": "4cf69368"
    },
    {
      "cell_type": "code",
      "metadata": {},
      "source": [
        "# Calcualte dx and dy for calculations\n",
        "dx, dy = mpcalc.lat_lon_grid_deltas(lon, lat)"
      ],
      "id": "9f72f43e",
      "execution_count": null,
      "outputs": []
    },
    {
      "cell_type": "markdown",
      "metadata": {},
      "source": [
        "## Maps and Projections\n"
      ],
      "id": "c249ea48"
    },
    {
      "cell_type": "code",
      "metadata": {},
      "source": [
        "# Data projection; NARR Data is Earth Relative\n",
        "dataproj = ccrs.PlateCarree()\n",
        "\n",
        "# Plot projection\n",
        "# The look you want for the view, Lambert Conformal for mid-latitude view\n",
        "plotproj = ccrs.LambertConformal(central_longitude=-100., central_latitude=40.,\n",
        "                                 standard_parallels=[30, 60])"
      ],
      "id": "04ea527a",
      "execution_count": null,
      "outputs": []
    },
    {
      "cell_type": "code",
      "metadata": {},
      "source": [
        "def create_map_background():\n",
        "    fig=plt.figure(figsize=(14, 12))\n",
        "    ax=plt.subplot(111, projection=plotproj)\n",
        "    ax.set_extent([-125, -73, 25, 50],ccrs.PlateCarree())\n",
        "    ax.coastlines('50m', linewidth=0.75)\n",
        "    ax.add_feature(cfeature.STATES, linewidth=0.5)\n",
        "    return fig, ax"
      ],
      "id": "e54f0113",
      "execution_count": null,
      "outputs": []
    },
    {
      "cell_type": "code",
      "metadata": {},
      "source": [
        "fig, ax = create_map_background()\n",
        "\n",
        "# Contour 1 - Temperature, dotted\n",
        "cs2 = ax.contour(lon, lat, tmpk.to('degC'), range(-50, 50, 5),\n",
        "                 colors='grey', linestyles='dotted', transform=dataproj)\n",
        "\n",
        "plt.clabel(cs2, fontsize=10, inline=1, inline_spacing=10, fmt='%i',\n",
        "           rightside_up=True, use_clabeltext=True)\n",
        "\n",
        "# Filled contours - Temperature advection\n",
        "contours = range(-25, 25, 5) #[-30, -25, -20, -15, -10, -5, 0, 5, 10, 15, 20, 25, 30]\n",
        "cf = ax.contourf(lon, lat, tmpk.to('degC'), contours,\n",
        "                 cmap='bwr', extend='both', transform=dataproj)\n",
        "plt.colorbar(cf, orientation='horizontal', pad=0, aspect=50,\n",
        "             extendrect=True, ticks=contours)\n",
        "\n",
        "# Titles\n",
        "plt.title('Surface Temperature degC', loc='left')\n",
        "plt.title(f'VALID: {vtime}', loc='right')\n",
        "\n",
        "plt.show()"
      ],
      "id": "0ae0b062",
      "execution_count": null,
      "outputs": []
    }
  ],
  "metadata": {
    "kernelspec": {
      "name": "python3",
      "language": "python",
      "display_name": "Python 3 (ipykernel)"
    }
  },
  "nbformat": 4,
  "nbformat_minor": 5
}